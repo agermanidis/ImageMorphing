{
 "cells": [
  {
   "cell_type": "markdown",
   "metadata": {},
   "source": [
    "# 使い方\n",
    "↓で環境設定のための以下の3つのコマンドを実行する（Shift + Enter）"
   ]
  },
  {
   "cell_type": "code",
   "execution_count": null,
   "metadata": {
    "colab": {
     "base_uri": "https://localhost:8080/",
     "height": 191
    },
    "colab_type": "code",
    "executionInfo": {
     "elapsed": 26740,
     "status": "ok",
     "timestamp": 1541727869352,
     "user": {
      "displayName": "Tomoaki Nakamura",
      "photoUrl": "",
      "userId": "09155123027556203739"
     },
     "user_tz": -540
    },
    "id": "JgdeCh6DpFIU",
    "outputId": "e5b0a164-980c-4775-cf79-2d6bb5071197"
   },
   "outputs": [],
   "source": [
    "!git clone https://github.com/tyo-yo/ImageMorphing\n",
    "!apt -y -q install cuda-libraries-dev-9-2\n",
    "!pip install -q cupy-cuda92\n",
    "!pip install torch torchvision easydict Pillow==4.0.0"
   ]
  },
  {
   "cell_type": "code",
   "execution_count": null,
   "metadata": {
    "colab": {
     "base_uri": "https://localhost:8080/",
     "height": 191
    },
    "colab_type": "code",
    "executionInfo": {
     "elapsed": 26740,
     "status": "ok",
     "timestamp": 1541727869352,
     "user": {
      "displayName": "Tomoaki Nakamura",
      "photoUrl": "",
      "userId": "09155123027556203739"
     },
     "user_tz": -540
    },
    "id": "JgdeCh6DpFIU",
    "outputId": "e5b0a164-980c-4775-cf79-2d6bb5071197"
   },
   "outputs": [],
   "source": [
    "cd ImageMorphing"
   ]
  },
  {
   "cell_type": "code",
   "execution_count": null,
   "metadata": {
    "colab": {
     "base_uri": "https://localhost:8080/",
     "height": 191
    },
    "colab_type": "code",
    "executionInfo": {
     "elapsed": 26740,
     "status": "ok",
     "timestamp": 1541727869352,
     "user": {
      "displayName": "Tomoaki Nakamura",
      "photoUrl": "",
      "userId": "09155123027556203739"
     },
     "user_tz": -540
    },
    "id": "JgdeCh6DpFIU",
    "outputId": "e5b0a164-980c-4775-cf79-2d6bb5071197"
   },
   "outputs": [],
   "source": [
    "from neural_image_morphing.neural_image_morphing import NeuralImageMorphing\n",
    "from neural_image_morphing.config import Config\n",
    "from google.colab import files"
   ]
  },
  {
   "cell_type": "markdown",
   "metadata": {},
   "source": [
    "# 使い方②\n",
    "既定の画像で動かす。"
   ]
  },
  {
   "cell_type": "code",
   "execution_count": null,
   "metadata": {},
   "outputs": [],
   "source": [
    "cfg = Config()\n",
    "opt = cfg.opt\n",
    "opt.name = 'test01'\n",
    "opt.datarootA = './data/a.png'\n",
    "opt.datarootB = './data/b.png'\n",
    "opt.k_final = 50\n",
    "# opt.k_per_level = 100\n",
    "opt.vmax_size = 16\n",
    "opt.fast = True\n",
    "lr_v = 1e-3\n",
    "opt.tol_count_v = 20\n",
    "opt.tol_v = 1e-3\n",
    "lr_w = 3e-2\n",
    "opt.tol_count_w = 5\n",
    "opt.tol_w = 1e-1\n",
    "opt.gamma_ui = 1e2\n",
    "opt.lambda_tps = 1e-1\n",
    "opt.render_logs = True\n",
    "cfg.save()\n",
    "\n",
    "nimo = NeuralImageMorphing(cfg)\n",
    "nimo.run()\n",
    "# nimo.run_morphing()\n",
    "# nimo.render()"
   ]
  },
  {
   "cell_type": "markdown",
   "metadata": {},
   "source": [
    "# 使い方③\n",
    "結果をダウンロードする"
   ]
  },
  {
   "cell_type": "code",
   "execution_count": null,
   "metadata": {},
   "outputs": [],
   "source": [
    "!zip -r results.zip results/\n",
    "files.download('results.zip')"
   ]
  },
  {
   "cell_type": "markdown",
   "metadata": {},
   "source": [
    "# 使い方④\n",
    "オリジナルの画像で実行したい場合、\n",
    "左のツールバーを開き、Filesに画像をドラックアンドドロップでアップロードする。\n",
    "そして、上のセルを\n",
    "opt.datarootA = '../hoge.png'\n",
    "opt.datarootB = '../bar.png'\n",
    "のようにアップロードされたパスに書きかえる。\n",
    "\n",
    "ディレクトリ構造が\n",
    "(root)\n",
    "- sample_data\n",
    "- ImageMorphing\n",
    "- hoge.png\n",
    "- bar.png\n",
    "のようであり、カレントディレクトリがImageMorphingにいることに注意する。\n",
    "\n",
    "また、オプションを変更したい場合は以下に従って値を変更する。"
   ]
  },
  {
   "cell_type": "markdown",
   "metadata": {
    "colab": {},
    "colab_type": "code",
    "id": "UOGJxaNwo1kx"
   },
   "source": [
    "# Options\n",
    "- datarootA: path to image A\n",
    "- datarootB: path to image B\n",
    "- gpu_ids: e.g. 0  0,1,2, 0,2. use -1 for CPU\n",
    "  - default='0'\n",
    "- tau: response threshold\n",
    "  - default=0.05\n",
    "- border_size: removing this brder_size correspondences in the final mapping\n",
    "  - default=7\n",
    "- k_per_level: maximal number of best buddies per local search.\n",
    "  - default = float('inf')\n",
    "- k_final:  The number of chosen best buddies, in every level, based on their accumulative response.\n",
    "  - default = 10\n",
    "- fast: if specified, stop the algorithm in layer 2, to accelerate runtime.\n",
    "- name: name of the experiment\n",
    "  - default = 'experiment_name'\n",
    "- niter_decay: # of iter to linearly decay learning rate to zero\n",
    "  - default = 100\n",
    "- beta1: momentum term of adam\n",
    "  - default = 0.5\n",
    "- lr: initial learning rate for adam\n",
    "  - default = 0.05\n",
    "- gamma: weight for equallibrium in BEGAN or ratio between I0 and Iref features for optimize_based_features\n",
    "  - default = 1\n",
    "- convergence_threshold: threshold for convergence for watefall mode (for optimize_based_features_model)\n",
    "  - default = 0.001\n",
    "- vmax_size: マッチングを解析するvの最適化の最大の解像度\n",
    "- lr_v: vの最適化の学習率\n",
    "- opt.tol_count_v: 小さい程vの最適化を早く打ち切る\n",
    "- opt.tol_v: 大きい程vの誤差を許容する\n",
    "- lr_w: Quadratic motion path の最適化の学習率\n",
    "- opt.tol_count_w: 小さい程wの最適化を早く打ち切る\n",
    "- opt.tol_w: 大きい程wの誤差を許容する\n",
    "- opt.gamma_ui: 点のマッチングを重視する重み\n",
    "- opt.lambda_tps: ベクトルの歪みを補正する重み\n",
    "- opt.render_logs: Trueなら逐次描画する\n"
   ]
  }
 ],
 "metadata": {
  "accelerator": "GPU",
  "colab": {
   "collapsed_sections": [],
   "name": "main.ipynb",
   "provenance": [],
   "version": "0.3.2"
  },
  "kernelspec": {
   "display_name": "Python 3 (Default)",
   "language": "python",
   "name": "python3"
  },
  "language_info": {
   "codemirror_mode": {
    "name": "ipython",
    "version": 3
   },
   "file_extension": ".py",
   "mimetype": "text/x-python",
   "name": "python",
   "nbconvert_exporter": "python",
   "pygments_lexer": "ipython3",
   "version": "3.6.6"
  }
 },
 "nbformat": 4,
 "nbformat_minor": 1
}
